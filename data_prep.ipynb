{
 "cells": [
  {
   "cell_type": "code",
   "execution_count": 1,
   "id": "8a44bfaf-00d7-4896-87f6-fffbd11604c1",
   "metadata": {},
   "outputs": [],
   "source": [
    "import numpy as np\n",
    "import pandas as pd\n",
    "import tensorflow as tf\n",
    "import os\n",
    "import matplotlib.pyplot as plt\n",
    "import pickle\n",
    "import cv2"
   ]
  },
  {
   "cell_type": "code",
   "execution_count": 2,
   "id": "04410be2-737e-4745-9d95-de5bdfe10432",
   "metadata": {},
   "outputs": [],
   "source": [
    "dir = r'dataset/test/'\n",
    "category = ['cats','dogs']"
   ]
  },
  {
   "cell_type": "code",
   "execution_count": 3,
   "id": "70a70185-f79a-4800-9c8d-3995e21ed126",
   "metadata": {},
   "outputs": [
    {
     "name": "stdout",
     "output_type": "stream",
     "text": [
      "dataset/test/cats\\cat_1.jpg\n",
      "dataset/test/cats\\cat_106.jpg\n",
      "dataset/test/cats\\cat_109.jpg\n",
      "dataset/test/cats\\cat_113.jpg\n",
      "dataset/test/cats\\cat_114.jpg\n",
      "dataset/test/cats\\cat_116.jpg\n",
      "dataset/test/cats\\cat_118.jpg\n",
      "dataset/test/cats\\cat_119.jpg\n",
      "dataset/test/cats\\cat_124.jpg\n",
      "dataset/test/cats\\cat_140.jpg\n",
      "dataset/test/cats\\cat_147.jpg\n",
      "dataset/test/cats\\cat_156.jpg\n",
      "dataset/test/cats\\cat_158.jpg\n",
      "dataset/test/cats\\cat_162.jpg\n",
      "dataset/test/cats\\cat_18.jpg\n",
      "dataset/test/cats\\cat_190.jpg\n",
      "dataset/test/cats\\cat_203.jpg\n",
      "dataset/test/cats\\cat_223.jpg\n",
      "dataset/test/cats\\cat_234.jpg\n",
      "dataset/test/cats\\cat_244.jpg\n",
      "dataset/test/cats\\cat_251.jpg\n",
      "dataset/test/cats\\cat_255.jpg\n",
      "dataset/test/cats\\cat_268.jpg\n",
      "dataset/test/cats\\cat_279.jpg\n",
      "dataset/test/cats\\cat_281.jpg\n",
      "dataset/test/cats\\cat_290.jpg\n",
      "dataset/test/cats\\cat_306.jpg\n",
      "dataset/test/cats\\cat_313.jpg\n",
      "dataset/test/cats\\cat_332.jpg\n",
      "dataset/test/cats\\cat_341.jpg\n",
      "dataset/test/cats\\cat_342.jpg\n",
      "dataset/test/cats\\cat_355.jpg\n",
      "dataset/test/cats\\cat_358.jpg\n",
      "dataset/test/cats\\cat_371.jpg\n",
      "dataset/test/cats\\cat_375.jpg\n",
      "dataset/test/cats\\cat_384.jpg\n",
      "dataset/test/cats\\cat_395.jpg\n",
      "dataset/test/cats\\cat_417.jpg\n",
      "dataset/test/cats\\cat_418.jpg\n",
      "dataset/test/cats\\cat_422.jpg\n",
      "dataset/test/cats\\cat_430.jpg\n",
      "dataset/test/cats\\cat_433.jpg\n",
      "dataset/test/cats\\cat_446.jpg\n",
      "dataset/test/cats\\cat_464.jpg\n",
      "dataset/test/cats\\cat_468.jpg\n",
      "dataset/test/cats\\cat_473.jpg\n",
      "dataset/test/cats\\cat_496.jpg\n",
      "dataset/test/cats\\cat_5.jpg\n",
      "dataset/test/cats\\cat_504.jpg\n",
      "dataset/test/cats\\cat_520.jpg\n",
      "dataset/test/cats\\cat_523.jpg\n",
      "dataset/test/cats\\cat_525.jpg\n",
      "dataset/test/cats\\cat_528.jpg\n",
      "dataset/test/cats\\cat_538.jpg\n",
      "dataset/test/cats\\cat_542.jpg\n",
      "dataset/test/cats\\cat_545.jpg\n",
      "dataset/test/cats\\cat_551.jpg\n",
      "dataset/test/cats\\cat_56.jpg\n",
      "dataset/test/cats\\cat_564.jpg\n",
      "dataset/test/cats\\cat_574.jpg\n",
      "dataset/test/cats\\cat_575.jpg\n",
      "dataset/test/cats\\cat_583.jpg\n",
      "dataset/test/cats\\cat_585.jpg\n",
      "dataset/test/cats\\cat_586.jpg\n",
      "dataset/test/cats\\cat_587.jpg\n",
      "dataset/test/cats\\cat_595.jpg\n",
      "dataset/test/cats\\cat_60.jpg\n",
      "dataset/test/cats\\cat_88.jpg\n",
      "dataset/test/cats\\cat_94.jpg\n",
      "dataset/test/cats\\cat_96.jpg\n",
      "dataset/test/dogs\\dog_114.jpg\n",
      "dataset/test/dogs\\dog_123.jpg\n",
      "dataset/test/dogs\\dog_124.jpg\n",
      "dataset/test/dogs\\dog_130.jpg\n",
      "dataset/test/dogs\\dog_141.jpg\n",
      "dataset/test/dogs\\dog_142.jpg\n",
      "dataset/test/dogs\\dog_147.jpg\n",
      "dataset/test/dogs\\dog_150.jpg\n",
      "dataset/test/dogs\\dog_155.jpg\n",
      "dataset/test/dogs\\dog_159.jpg\n",
      "dataset/test/dogs\\dog_168.jpg\n",
      "dataset/test/dogs\\dog_173.jpg\n",
      "dataset/test/dogs\\dog_177.jpg\n",
      "dataset/test/dogs\\dog_181.jpg\n",
      "dataset/test/dogs\\dog_191.jpg\n",
      "dataset/test/dogs\\dog_194.jpg\n",
      "dataset/test/dogs\\dog_196.jpg\n",
      "dataset/test/dogs\\dog_197.jpg\n",
      "dataset/test/dogs\\dog_211.jpg\n",
      "dataset/test/dogs\\dog_213.jpg\n",
      "dataset/test/dogs\\dog_219.jpg\n",
      "dataset/test/dogs\\dog_227.jpg\n",
      "dataset/test/dogs\\dog_229.jpg\n",
      "dataset/test/dogs\\dog_236.jpg\n",
      "dataset/test/dogs\\dog_237.jpg\n",
      "dataset/test/dogs\\dog_240.jpg\n",
      "dataset/test/dogs\\dog_244.jpg\n",
      "dataset/test/dogs\\dog_258.jpg\n",
      "dataset/test/dogs\\dog_28.jpg\n",
      "dataset/test/dogs\\dog_283.jpg\n",
      "dataset/test/dogs\\dog_302.jpg\n",
      "dataset/test/dogs\\dog_303.jpg\n",
      "dataset/test/dogs\\dog_313.jpg\n",
      "dataset/test/dogs\\dog_327.jpg\n",
      "dataset/test/dogs\\dog_344.jpg\n",
      "dataset/test/dogs\\dog_354.jpg\n",
      "dataset/test/dogs\\dog_355.jpg\n",
      "dataset/test/dogs\\dog_360.jpg\n",
      "dataset/test/dogs\\dog_364.jpg\n",
      "dataset/test/dogs\\dog_369.jpg\n",
      "dataset/test/dogs\\dog_377.jpg\n",
      "dataset/test/dogs\\dog_380.jpg\n",
      "dataset/test/dogs\\dog_398.jpg\n",
      "dataset/test/dogs\\dog_415.jpg\n",
      "dataset/test/dogs\\dog_421.jpg\n",
      "dataset/test/dogs\\dog_43.jpg\n",
      "dataset/test/dogs\\dog_44.jpg\n",
      "dataset/test/dogs\\dog_442.jpg\n",
      "dataset/test/dogs\\dog_443.jpg\n",
      "dataset/test/dogs\\dog_461.jpg\n",
      "dataset/test/dogs\\dog_462.jpg\n",
      "dataset/test/dogs\\dog_464.jpg\n",
      "dataset/test/dogs\\dog_472.jpg\n",
      "dataset/test/dogs\\dog_476.jpg\n",
      "dataset/test/dogs\\dog_482.jpg\n",
      "dataset/test/dogs\\dog_517.jpg\n",
      "dataset/test/dogs\\dog_518.jpg\n",
      "dataset/test/dogs\\dog_519.jpg\n",
      "dataset/test/dogs\\dog_520.jpg\n",
      "dataset/test/dogs\\dog_521.jpg\n",
      "dataset/test/dogs\\dog_522.jpg\n",
      "dataset/test/dogs\\dog_528.jpg\n",
      "dataset/test/dogs\\dog_534.jpg\n",
      "dataset/test/dogs\\dog_536.jpg\n",
      "dataset/test/dogs\\dog_551.jpg\n",
      "dataset/test/dogs\\dog_563.jpg\n",
      "dataset/test/dogs\\dog_59.jpg\n",
      "dataset/test/dogs\\dog_68.jpg\n",
      "dataset/test/dogs\\dog_75.jpg\n",
      "dataset/test/dogs\\dog_89.jpg\n"
     ]
    }
   ],
   "source": [
    "#resize image\n",
    "IMG_SIZE = 200\n",
    "\n",
    "#image data for cat and dog by index 0 and 1 based on category\n",
    "data = []\n",
    "for x in category:\n",
    "    folder = os.path.join(dir,x)\n",
    "    label = category.index(x)\n",
    "    for img in os.listdir(folder):\n",
    "        img_path = os.path.join(folder, img)\n",
    "        print(img_path)\n",
    "        img_arr = cv2.imread(img_path)\n",
    "        img_arr = cv2.resize(img_arr, (IMG_SIZE,IMG_SIZE))\n",
    "        data.append([img_arr, label])"
   ]
  },
  {
   "cell_type": "code",
   "execution_count": 4,
   "id": "d93d5f29-9ed7-4a66-bf96-b470aebaf06b",
   "metadata": {},
   "outputs": [
    {
     "data": {
      "text/plain": [
       "140"
      ]
     },
     "execution_count": 4,
     "metadata": {},
     "output_type": "execute_result"
    }
   ],
   "source": [
    "len(data)"
   ]
  },
  {
   "cell_type": "code",
   "execution_count": 5,
   "id": "107ec6e3-b923-40bd-ad87-199d4a19ae2c",
   "metadata": {},
   "outputs": [],
   "source": [
    "x = []\n",
    "y = []\n",
    "\n",
    "for features, labels in data:\n",
    "    x.append(features)\n",
    "    y.append(labels)"
   ]
  },
  {
   "cell_type": "code",
   "execution_count": 6,
   "id": "e74551ce-02e8-4807-9f44-870e5a9d712b",
   "metadata": {},
   "outputs": [],
   "source": [
    "x = np.array(x)\n",
    "y = np.array(y)"
   ]
  },
  {
   "cell_type": "code",
   "execution_count": 7,
   "id": "51d07e04-3dd0-4aa1-9671-7d4c2b91c73d",
   "metadata": {},
   "outputs": [
    {
     "data": {
      "text/plain": [
       "140"
      ]
     },
     "execution_count": 7,
     "metadata": {},
     "output_type": "execute_result"
    }
   ],
   "source": [
    "len(y)"
   ]
  },
  {
   "cell_type": "code",
   "execution_count": 8,
   "id": "db4ce868-3595-436e-8baa-b06413a7b27b",
   "metadata": {},
   "outputs": [],
   "source": [
    "pickle.dump(x, open('x_test.pkl', 'wb'))\n",
    "pickle.dump(y, open('y_test.pkl', 'wb'))"
   ]
  }
 ],
 "metadata": {
  "kernelspec": {
   "display_name": "Python 3 (ipykernel)",
   "language": "python",
   "name": "python3"
  },
  "language_info": {
   "codemirror_mode": {
    "name": "ipython",
    "version": 3
   },
   "file_extension": ".py",
   "mimetype": "text/x-python",
   "name": "python",
   "nbconvert_exporter": "python",
   "pygments_lexer": "ipython3",
   "version": "3.10.11"
  }
 },
 "nbformat": 4,
 "nbformat_minor": 5
}
